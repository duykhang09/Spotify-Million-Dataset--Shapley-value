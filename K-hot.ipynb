{
 "cells": [
  {
   "cell_type": "code",
   "execution_count": null,
   "metadata": {},
   "outputs": [],
   "source": [
    "import pandas as pd\n",
    "import collections\n",
    "import json\n",
    "import numpy as np"
   ]
  },
  {
   "cell_type": "code",
   "execution_count": null,
   "metadata": {},
   "outputs": [],
   "source": [
    "playlists_json = \"\"\n",
    "with open('data.txt') as f:\n",
    "    for line in f:\n",
    "        playlists_json += line"
   ]
  },
  {
   "cell_type": "code",
   "execution_count": null,
   "metadata": {},
   "outputs": [],
   "source": [
    "playlists_df = pd.read_json(playlists_json) #turn JSON string into a pandas dataframe"
   ]
  },
  {
   "cell_type": "code",
   "execution_count": null,
   "metadata": {},
   "outputs": [],
   "source": [
    "playlists_df"
   ]
  },
  {
   "cell_type": "code",
   "execution_count": null,
   "metadata": {
    "scrolled": true
   },
   "outputs": [],
   "source": [
    "pl_dict = playlists_df.to_dict(orient='records') #changed format from df to dict. Better format for counting top songs."
   ]
  },
  {
   "cell_type": "code",
   "execution_count": null,
   "metadata": {},
   "outputs": [],
   "source": [
    "track_histogram = collections.Counter() #instantiate counter object\n",
    "for pl in pl_dict: #for each playlist in the dictionary containing playlists\n",
    "    for track in pl['tracks']: #for each song in a playlist\n",
    "        uri = track['track_uri'] #store song's URI\n",
    "        track_histogram[uri] += 1 #increment count for the uri each time its seen in a playlist"
   ]
  },
  {
   "cell_type": "code",
   "execution_count": null,
   "metadata": {},
   "outputs": [],
   "source": [
    "track_histogram.most_common(3)"
   ]
  },
  {
   "cell_type": "code",
   "execution_count": null,
   "metadata": {},
   "outputs": [],
   "source": [
    "top_2000 = track_histogram.most_common(2000) #get top 2000 songs\n",
    "dict_hot = dict() #create empty dictionary\n",
    "for i in range(2000): #iterate over each top song\n",
    "    uri, count = top_2000[i]\n",
    "    dict_hot[uri] = i #key is song URI, value is the song's index in the k-hot array"
   ]
  },
  {
   "cell_type": "code",
   "execution_count": null,
   "metadata": {},
   "outputs": [],
   "source": [
    "dict_hot['spotify:track:7KXjTSCq5nL1LoYtL7XAwS']  #confirming that the most popular song is at position 0"
   ]
  },
  {
   "cell_type": "code",
   "execution_count": null,
   "metadata": {},
   "outputs": [],
   "source": [
    "k_hot_arrays = [] #list of tuples; (pid, [k-hot array])\n",
    "for pl in pl_dict:\n",
    "    k_hot = np.zeros(2000) #create k-hot array with all 0s\n",
    "    pid = pl['pid'] #store pid so we know which playlist the k-hot array belongs to\n",
    "    for track in pl['tracks']: #for each song in a playlist,\n",
    "        uri = track['track_uri']\n",
    "        if uri in dict_hot: #check if the song is one of the top 2000 songs.\n",
    "            index = dict_hot[uri] \n",
    "            k_hot[index] = 1 \n",
    "    k_hot_arrays.append((pid, k_hot))"
   ]
  },
  {
   "cell_type": "code",
   "execution_count": null,
   "metadata": {},
   "outputs": [],
   "source": [
    "#just checking whether or not the first playlist has one of the 2000 top songs in it or not\n",
    "if 1 in k_hot_arrays[0][1]:\n",
    "    print(\"true\")\n",
    "else:\n",
    "    print(\"false\")"
   ]
  },
  {
   "cell_type": "code",
   "execution_count": null,
   "metadata": {},
   "outputs": [],
   "source": [
    "pl_dict"
   ]
  },
  {
   "cell_type": "code",
   "execution_count": null,
   "metadata": {},
   "outputs": [],
   "source": []
  }
 ],
 "metadata": {
  "kernelspec": {
   "display_name": "Python 3",
   "language": "python",
   "name": "python3"
  },
  "language_info": {
   "codemirror_mode": {
    "name": "ipython",
    "version": 3
   },
   "file_extension": ".py",
   "mimetype": "text/x-python",
   "name": "python",
   "nbconvert_exporter": "python",
   "pygments_lexer": "ipython3",
   "version": "3.9.7"
  }
 },
 "nbformat": 4,
 "nbformat_minor": 4
}
