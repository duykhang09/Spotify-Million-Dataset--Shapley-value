import pandas as pd
import collections
import json
import numpy as np

playlists_json = ""
with open('data.txt') as f:
    for line in f:
        playlists_json += line

playlists_df = pd.read_json(playlists_json) #turn JSON string into a pandas dataframe
pl_dict = playlists_df.to_dict(orient='records') #changed format from df to dict. Better format for counting top songs.

track_histogram = collections.Counter() #instantiate counter object
for pl in pl_dict: #for each playlist in the dictionary containing playlists
    for track in pl['tracks']: #for each song in a playlist
        uri = track['track_uri'] #store song's URI
        track_histogram[uri] += 1 #increment count for the uri each time its seen in a playlist

top_2000 = track_histogram.most_common(2000) #get top 2000 songs
dict_hot = dict() #create empty dictionary
for i in range(2000): #iterate over each top song
    uri, count = top_2000[i]
    dict_hot[uri] = i #key is song URI, value is the song's index in the k-hot array

k_hot_arrays = [] #list of tuples; (pid, [k-hot array])
for pl in pl_dict:
    k_hot = np.zeros(2000) #create k-hot array with all 0s
    pid = pl['pid'] #store pid so we know which playlist the k-hot array belongs to
    for track in pl['tracks']: #for each song in a playlist,
        uri = track['track_uri']
        if uri in dict_hot: #check if the song is one of the top 2000 songs.
            index = dict_hot[uri] 
            k_hot[index] = 1 
    k_hot_arrays.append((pid, k_hot))
